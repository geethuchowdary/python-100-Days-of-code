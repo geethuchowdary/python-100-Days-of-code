{
 "cells": [
  {
   "cell_type": "markdown",
   "id": "00fec037",
   "metadata": {},
   "source": [
    "primitive data types:"
   ]
  },
  {
   "cell_type": "code",
   "execution_count": 1,
   "id": "520183fb",
   "metadata": {
    "ExecuteTime": {
     "end_time": "2021-07-24T12:23:25.001862Z",
     "start_time": "2021-07-24T12:23:24.794457Z"
    }
   },
   "outputs": [
    {
     "name": "stdout",
     "output_type": "stream",
     "text": [
      "5\n"
     ]
    },
    {
     "ename": "TypeError",
     "evalue": "object of type 'int' has no len()",
     "output_type": "error",
     "traceback": [
      "\u001b[1;31m---------------------------------------------------------------------------\u001b[0m",
      "\u001b[1;31mTypeError\u001b[0m                                 Traceback (most recent call last)",
      "\u001b[1;32m<ipython-input-1-5a69ca79950f>\u001b[0m in \u001b[0;36m<module>\u001b[1;34m\u001b[0m\n\u001b[0;32m      2\u001b[0m \u001b[0mprint\u001b[0m\u001b[1;33m(\u001b[0m\u001b[0mlen\u001b[0m\u001b[1;33m(\u001b[0m\u001b[1;34m\"hello\"\u001b[0m\u001b[1;33m)\u001b[0m\u001b[1;33m)\u001b[0m \u001b[1;31m#so its gives the output as \"5\"\u001b[0m\u001b[1;33m\u001b[0m\u001b[1;33m\u001b[0m\u001b[0m\n\u001b[0;32m      3\u001b[0m \u001b[1;31m#but in the place of hello if we take NUMBERS it gives error\u001b[0m\u001b[1;33m\u001b[0m\u001b[1;33m\u001b[0m\u001b[1;33m\u001b[0m\u001b[0m\n\u001b[1;32m----> 4\u001b[1;33m \u001b[0mprint\u001b[0m\u001b[1;33m(\u001b[0m\u001b[0mlen\u001b[0m\u001b[1;33m(\u001b[0m\u001b[1;36m1234\u001b[0m\u001b[1;33m)\u001b[0m\u001b[1;33m)\u001b[0m \u001b[1;31m#it gives the type error\u001b[0m\u001b[1;33m\u001b[0m\u001b[1;33m\u001b[0m\u001b[0m\n\u001b[0m",
      "\u001b[1;31mTypeError\u001b[0m: object of type 'int' has no len()"
     ]
    }
   ],
   "source": [
    "#here we are counting the length of the string\n",
    "print(len(\"hello\")) #so its gives the output as \"5\" \n",
    "#but in the place of hello if we take NUMBERS it gives error\n",
    "print(len(1234)) #it gives the type error \n"
   ]
  },
  {
   "cell_type": "code",
   "execution_count": 2,
   "id": "f2fff0a0",
   "metadata": {
    "ExecuteTime": {
     "end_time": "2021-07-24T12:23:28.637478Z",
     "start_time": "2021-07-24T12:23:28.632529Z"
    }
   },
   "outputs": [
    {
     "name": "stdout",
     "output_type": "stream",
     "text": [
      "h\n",
      "o\n"
     ]
    }
   ],
   "source": [
    "#DATA TYPES\n",
    "#STRINGS\n",
    "print(\"hello\"[0])  #value counts from 0 ,the starting letter of a string starts the count from 0\n",
    "                   # so it gives the letter \"h\" which means 0 takes the letter \"h\"\n",
    "#example    \n",
    "print(\"hello\"[4])    #o gets printed"
   ]
  },
  {
   "cell_type": "code",
   "execution_count": 3,
   "id": "d7b6c0d7",
   "metadata": {
    "ExecuteTime": {
     "end_time": "2021-07-24T12:23:31.022055Z",
     "start_time": "2021-07-24T12:23:31.017108Z"
    }
   },
   "outputs": [
    {
     "name": "stdout",
     "output_type": "stream",
     "text": [
      "6\n",
      "12345678\n",
      "helloworld!\n"
     ]
    }
   ],
   "source": [
    "print(len(\"123\"+\"456\")) #here the numbers will be considered as string bez of double quotes\n",
    "#it finds the length of the two strings\n",
    "print(\"1234\"+\"5678\")\n",
    "#it  concates the two strings\n",
    "print(\"hello\"+\"world!\")"
   ]
  },
  {
   "cell_type": "markdown",
   "id": "130faa5f",
   "metadata": {},
   "source": [
    "INTEGER:"
   ]
  },
  {
   "cell_type": "code",
   "execution_count": 4,
   "id": "85927479",
   "metadata": {
    "ExecuteTime": {
     "end_time": "2021-07-24T12:23:48.377123Z",
     "start_time": "2021-07-24T12:23:48.372177Z"
    }
   },
   "outputs": [
    {
     "name": "stdout",
     "output_type": "stream",
     "text": [
      "1234\n"
     ]
    }
   ],
   "source": [
    "print(1234) #its not a string"
   ]
  },
  {
   "cell_type": "markdown",
   "id": "ea9e8049",
   "metadata": {},
   "source": [
    "FLOAT:"
   ]
  },
  {
   "cell_type": "markdown",
   "id": "1330795b",
   "metadata": {},
   "source": [
    "#3.14 (WITH A DECIMAL POINT CALLED FLOATING POINT)"
   ]
  },
  {
   "cell_type": "markdown",
   "id": "8b0a8780",
   "metadata": {},
   "source": [
    "BOOLEAN:"
   ]
  },
  {
   "cell_type": "markdown",
   "id": "c339667c",
   "metadata": {},
   "source": [
    "#IT DEFINES TRUE OR FALSE"
   ]
  },
  {
   "cell_type": "code",
   "execution_count": 5,
   "id": "4bed1d99",
   "metadata": {
    "ExecuteTime": {
     "end_time": "2021-07-24T12:24:12.428210Z",
     "start_time": "2021-07-24T12:24:12.422235Z"
    }
   },
   "outputs": [
    {
     "ename": "SyntaxError",
     "evalue": "invalid syntax (<ipython-input-5-9a91693fa0ed>, line 5)",
     "output_type": "error",
     "traceback": [
      "\u001b[1;36m  File \u001b[1;32m\"<ipython-input-5-9a91693fa0ed>\"\u001b[1;36m, line \u001b[1;32m5\u001b[0m\n\u001b[1;33m    print(\"your name has\" + num_1 + \"characters.\")\u001b[0m\n\u001b[1;37m    ^\u001b[0m\n\u001b[1;31mSyntaxError\u001b[0m\u001b[1;31m:\u001b[0m invalid syntax\n"
     ]
    }
   ],
   "source": [
    "num_1=(len(input(\"what is your name?\"))  # as we see here it wont gives the output, it is a type error bez \n",
    "                                               #it wont concates string with integers\n",
    "                                               #as we see we are using len function to find the length of a string\n",
    "                                               #so it doesn't concates\n",
    "print(\"your name has\" + num_1 + \"characters.\")"
   ]
  },
  {
   "cell_type": "code",
   "execution_count": 7,
   "id": "3bfe14bf",
   "metadata": {
    "ExecuteTime": {
     "end_time": "2021-07-24T12:24:38.838858Z",
     "start_time": "2021-07-24T12:24:36.246459Z"
    }
   },
   "outputs": [
    {
     "name": "stdout",
     "output_type": "stream",
     "text": [
      "what is your name?geethu\n",
      "your name has 6 characters.\n"
     ]
    }
   ],
   "source": [
    "num_1=len(input(\"what is your name?\")) # when it comes here we are the interger value to string by using \"str\" func\n",
    "num_2=str(num_1)\n",
    "print(\"your name has\" + \" \"+num_2+ \" \" + \"characters.\")"
   ]
  },
  {
   "cell_type": "markdown",
   "id": "930c41d3",
   "metadata": {},
   "source": [
    "type() function"
   ]
  },
  {
   "cell_type": "code",
   "execution_count": 8,
   "id": "f6b24dee",
   "metadata": {
    "ExecuteTime": {
     "end_time": "2021-07-24T12:24:47.722430Z",
     "start_time": "2021-07-24T12:24:47.717492Z"
    }
   },
   "outputs": [
    {
     "name": "stdout",
     "output_type": "stream",
     "text": [
      "<class 'int'>\n",
      "<class 'str'>\n"
     ]
    }
   ],
   "source": [
    "a=12345\n",
    "print(type(a))#it say that what type of data type is\n",
    "b=\"string\"\n",
    "print(type(b))"
   ]
  },
  {
   "cell_type": "markdown",
   "id": "01406fdb",
   "metadata": {},
   "source": [
    "type conversions:"
   ]
  },
  {
   "cell_type": "code",
   "execution_count": 9,
   "id": "d12ad9c0",
   "metadata": {
    "ExecuteTime": {
     "end_time": "2021-07-24T12:24:54.575485Z",
     "start_time": "2021-07-24T12:24:54.569548Z"
    }
   },
   "outputs": [
    {
     "name": "stdout",
     "output_type": "stream",
     "text": [
      "170.3\n",
      "70100.3\n"
     ]
    }
   ],
   "source": [
    "print(70 + float(100.3))\n",
    "print(str(70) + str(100.3))"
   ]
  },
  {
   "cell_type": "code",
   "execution_count": 10,
   "id": "7d8d4935",
   "metadata": {
    "ExecuteTime": {
     "end_time": "2021-07-24T12:25:03.600725Z",
     "start_time": "2021-07-24T12:24:59.436145Z"
    }
   },
   "outputs": [
    {
     "name": "stdout",
     "output_type": "stream",
     "text": [
      "your two digit number :56\n",
      "<class 'str'>\n",
      "11\n"
     ]
    }
   ],
   "source": [
    "#coding exercise\n",
    "#input as two digit number output should be its addition ex: ip : 35 op: 3+5=8\n",
    "a=input(\"your two digit number :\") #taking two digit number\n",
    "print(type(a)) # by here we can conclude it as a string\n",
    "num_1=a[0] #seperating the numbers\n",
    "num_2=a[1]\n",
    "#print(num_1)   #the numers is in strings as it gets from input fun so we are using int function for adding those two numbers\n",
    "#print(num_2)\n",
    "print(int(num_1)+int(num_2))"
   ]
  },
  {
   "cell_type": "code",
   "execution_count": 11,
   "id": "3ceced29",
   "metadata": {
    "ExecuteTime": {
     "end_time": "2021-07-24T12:25:14.593309Z",
     "start_time": "2021-07-24T12:25:09.238959Z"
    }
   },
   "outputs": [
    {
     "name": "stdout",
     "output_type": "stream",
     "text": [
      "enter weight in kgs : 55\n",
      "enter height in m : 1.6\n",
      "21.484374999999996\n",
      "21\n"
     ]
    }
   ],
   "source": [
    "#coding challenge 2\n",
    "#BMI calculator exercise\n",
    "#body mass index (BMI) = weight(kgs)/height*height(m*m)\n",
    "weight=input(\"enter weight in kgs : \")\n",
    "height=input(\"enter height in m : \")\n",
    "#bmi= weight/height ** 2 #if we run this we will get an error bez weight and height values are strings and 2 is integer\n",
    "bmi=float(weight)/float(height) ** 2 # weignt and height have decimal number so that we are them into float\n",
    "print(bmi)\n",
    "bmi_as_int= int(bmi)  # to print whole number we are using int function\n",
    "print(bmi_as_int)"
   ]
  },
  {
   "cell_type": "markdown",
   "id": "97a89571",
   "metadata": {},
   "source": [
    "number manupulation and f functions:"
   ]
  },
  {
   "cell_type": "code",
   "execution_count": 17,
   "id": "72634a77",
   "metadata": {
    "ExecuteTime": {
     "end_time": "2021-07-25T06:52:51.554581Z",
     "start_time": "2021-07-25T06:52:51.543503Z"
    }
   },
   "outputs": [
    {
     "name": "stdout",
     "output_type": "stream",
     "text": [
      "1.6666666666666667\n",
      "2\n",
      "1.67\n",
      "1\n",
      "2\n"
     ]
    }
   ],
   "source": [
    "print(5/3) #as we see here we get an op as 1.66666666666667\n",
    "print(round(5/3)) # round keyword is used for roundfigure the whole decimal\n",
    "print(round(5/3,2)) #it says that we need output after 2 digts of decimal\n",
    "print(5//3) #floor division\n",
    "print(5%3) #modulus #gives the remainder\n"
   ]
  },
  {
   "cell_type": "code",
   "execution_count": 18,
   "id": "90ae6120",
   "metadata": {
    "ExecuteTime": {
     "end_time": "2021-07-25T06:55:05.970174Z",
     "start_time": "2021-07-25T06:55:05.964479Z"
    }
   },
   "outputs": [
    {
     "name": "stdout",
     "output_type": "stream",
     "text": [
      "1.0\n"
     ]
    }
   ],
   "source": [
    "result= 4/2  #4/2=2\n",
    "result /=2   # 2/=2 =>1\n",
    "print(result) #printing result"
   ]
  },
  {
   "cell_type": "code",
   "execution_count": 20,
   "id": "46871af5",
   "metadata": {
    "ExecuteTime": {
     "end_time": "2021-07-25T08:46:58.362206Z",
     "start_time": "2021-07-25T08:46:58.355190Z"
    }
   },
   "outputs": [
    {
     "name": "stdout",
     "output_type": "stream",
     "text": [
      "1\n"
     ]
    }
   ],
   "source": [
    "score=0\n",
    "score+=1 #addition equalto which is 0+1=1\n",
    "print(score)"
   ]
  },
  {
   "cell_type": "code",
   "execution_count": 24,
   "id": "89f4f638",
   "metadata": {
    "ExecuteTime": {
     "end_time": "2021-07-25T08:57:52.209621Z",
     "start_time": "2021-07-25T08:57:52.201643Z"
    }
   },
   "outputs": [
    {
     "name": "stdout",
     "output_type": "stream",
     "text": [
      "your score is 0\n"
     ]
    }
   ],
   "source": [
    "score=0\n",
    "height =1.2\n",
    "isWinning = True                                                         # doing this is very bad\n",
    "print(\"your score is \" + str(score))"
   ]
  },
  {
   "cell_type": "markdown",
   "id": "609b84c8",
   "metadata": {},
   "source": [
    "f-strings:"
   ]
  },
  {
   "cell_type": "code",
   "execution_count": 27,
   "id": "1c4e635e",
   "metadata": {
    "ExecuteTime": {
     "end_time": "2021-07-25T09:06:59.540836Z",
     "start_time": "2021-07-25T09:06:59.503934Z"
    }
   },
   "outputs": [
    {
     "name": "stdout",
     "output_type": "stream",
     "text": [
      "your score is 0 , your height is 1.2 , your are winning is True\n"
     ]
    }
   ],
   "source": [
    "score=0\n",
    "height =1.2\n",
    "isWinning = True\n",
    "print(f\"your score is {score} , your height is {height} , your are winning is {isWinning}\")"
   ]
  },
  {
   "cell_type": "code",
   "execution_count": null,
   "id": "179869f0",
   "metadata": {
    "ExecuteTime": {
     "start_time": "2021-07-26T18:03:12.709Z"
    }
   },
   "outputs": [],
   "source": [
    "#coding exercise \n",
    "#your life in weeks\n",
    "age=input(\"what is your current age : \")  # to give input \n",
    "#print(type(age))\n",
    "age_as_int = int(age) # changing string into integer\n",
    "year_remaining = 90 - age_as_int # had a limit of years 90 , we are doing as per limit 90 years\n",
    "days_remaining = year_remaining * 365 \n",
    "weeks_remaining = year_remaining * 56\n",
    "months_remaining = year_remaining * 12\n",
    "#print(months_remaining)\n",
    "print(f\"you have {days_remaining} days , you have {weeks_remaining} weeks , you have {months_remaining} months left\")"
   ]
  },
  {
   "cell_type": "markdown",
   "id": "9d574ff4",
   "metadata": {},
   "source": [
    "PROJECT 2:"
   ]
  },
  {
   "cell_type": "markdown",
   "id": "a2fd8bef",
   "metadata": {},
   "source": [
    "#TIP CALCULATOR"
   ]
  },
  {
   "cell_type": "code",
   "execution_count": null,
   "id": "30e2ddf0",
   "metadata": {
    "ExecuteTime": {
     "start_time": "2021-07-27T05:02:10.599Z"
    }
   },
   "outputs": [
    {
     "name": "stdout",
     "output_type": "stream",
     "text": [
      "welcome to the tip calculator\n"
     ]
    }
   ],
   "source": [
    "print(\"welcome to the tip calculator\") #just a message to print\n",
    "bill=float(input(\"what is the total bill : \")) #giving an input and changing that into float\n",
    "tip = int(input(\"how much tip would you like to give ?10 , 12 or 15 \")) #giving an inpu\n",
    "people= int(input(\"how many people to split the bill : \"))\n",
    "#bill_with_tip = tip / 100 * bill + bill  # bill *(1 + tip /100)\n",
    "tip_as_percentage = tip / 100\n",
    "total_tip_amount = bill * tip_as_percentage\n",
    "total_bill = bill + total_tip_amount\n",
    "bill_per_person = total_bill/ people\n",
    "final_amount=round(bill_per_person, 2)\n",
    "print(f\"each person should pay ${final_amount},\")"
   ]
  },
  {
   "cell_type": "code",
   "execution_count": null,
   "id": "fbf58223",
   "metadata": {},
   "outputs": [],
   "source": []
  }
 ],
 "metadata": {
  "kernelspec": {
   "display_name": "Python 3",
   "language": "python",
   "name": "python3"
  },
  "language_info": {
   "codemirror_mode": {
    "name": "ipython",
    "version": 3
   },
   "file_extension": ".py",
   "mimetype": "text/x-python",
   "name": "python",
   "nbconvert_exporter": "python",
   "pygments_lexer": "ipython3",
   "version": "3.9.6"
  },
  "varInspector": {
   "cols": {
    "lenName": 16,
    "lenType": 16,
    "lenVar": 40
   },
   "kernels_config": {
    "python": {
     "delete_cmd_postfix": "",
     "delete_cmd_prefix": "del ",
     "library": "var_list.py",
     "varRefreshCmd": "print(var_dic_list())"
    },
    "r": {
     "delete_cmd_postfix": ") ",
     "delete_cmd_prefix": "rm(",
     "library": "var_list.r",
     "varRefreshCmd": "cat(var_dic_list()) "
    }
   },
   "types_to_exclude": [
    "module",
    "function",
    "builtin_function_or_method",
    "instance",
    "_Feature"
   ],
   "window_display": false
  }
 },
 "nbformat": 4,
 "nbformat_minor": 5
}
