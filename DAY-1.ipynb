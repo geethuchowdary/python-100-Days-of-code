{
 "cells": [
  {
   "cell_type": "code",
   "execution_count": 1,
   "id": "3b49e06c",
   "metadata": {
    "ExecuteTime": {
     "end_time": "2021-07-24T12:14:38.569472Z",
     "start_time": "2021-07-24T12:14:38.564484Z"
    }
   },
   "outputs": [
    {
     "name": "stdout",
     "output_type": "stream",
     "text": [
      "hello world!\n"
     ]
    }
   ],
   "source": [
    "print(\"hello world!\") "
   ]
  },
  {
   "cell_type": "markdown",
   "id": "b38c0101",
   "metadata": {},
   "source": [
    "string manupulation and code intelligence:\n",
    "\n",
    "concatination: it helps to contate two or more string as you see below"
   ]
  },
  {
   "cell_type": "code",
   "execution_count": 2,
   "id": "7fd7afc1",
   "metadata": {
    "ExecuteTime": {
     "end_time": "2021-07-24T12:14:51.193109Z",
     "start_time": "2021-07-24T12:14:51.188159Z"
    }
   },
   "outputs": [
    {
     "name": "stdout",
     "output_type": "stream",
     "text": [
      "helloGeethika\n"
     ]
    }
   ],
   "source": [
    "print(\"hello\" + \"Geethika\") #without space"
   ]
  },
  {
   "cell_type": "code",
   "execution_count": 3,
   "id": "c73de355",
   "metadata": {
    "ExecuteTime": {
     "end_time": "2021-07-24T12:14:52.532748Z",
     "start_time": "2021-07-24T12:14:52.525767Z"
    }
   },
   "outputs": [
    {
     "name": "stdout",
     "output_type": "stream",
     "text": [
      "hello Geethika\n",
      "hello Geethika\n",
      "hello Geethika\n"
     ]
    }
   ],
   "source": [
    "print(\"hello \" + \"Geethika\")\n",
    "print(\"hello\" + \" Geethika\")      #with spaces can try any of this \n",
    "print(\"hello\" + \" \"+ \"Geethika\")\n"
   ]
  },
  {
   "cell_type": "markdown",
   "id": "11edf611",
   "metadata": {
    "ExecuteTime": {
     "end_time": "2021-07-24T12:14:53.982897Z",
     "start_time": "2021-07-24T12:14:53.977950Z"
    }
   },
   "source": [
    "# python input functions:\n",
    "input() function"
   ]
  },
  {
   "cell_type": "code",
   "execution_count": 5,
   "id": "7d0569f3",
   "metadata": {
    "ExecuteTime": {
     "end_time": "2021-07-24T12:15:22.404878Z",
     "start_time": "2021-07-24T12:15:18.603017Z"
    }
   },
   "outputs": [
    {
     "name": "stdout",
     "output_type": "stream",
     "text": [
      "what is your name?geethu\n"
     ]
    },
    {
     "data": {
      "text/plain": [
       "'geethu'"
      ]
     },
     "execution_count": 5,
     "metadata": {},
     "output_type": "execute_result"
    }
   ],
   "source": [
    "input(\"what is your name?\") #as shown in the output it ask for answer means when you run the program the prgm didnt well it \n",
    "                                                                        #just in pause to collect data."
   ]
  },
  {
   "cell_type": "code",
   "execution_count": 6,
   "id": "3d7311f0",
   "metadata": {
    "ExecuteTime": {
     "end_time": "2021-07-24T12:15:29.770580Z",
     "start_time": "2021-07-24T12:15:26.769531Z"
    }
   },
   "outputs": [
    {
     "name": "stdout",
     "output_type": "stream",
     "text": [
      "what is your name?geethu\n"
     ]
    },
    {
     "ename": "NameError",
     "evalue": "name 'name' is not defined",
     "output_type": "error",
     "traceback": [
      "\u001b[1;31m---------------------------------------------------------------------------\u001b[0m",
      "\u001b[1;31mNameError\u001b[0m                                 Traceback (most recent call last)",
      "\u001b[1;32m<ipython-input-6-402ae1751fa4>\u001b[0m in \u001b[0;36m<module>\u001b[1;34m\u001b[0m\n\u001b[0;32m      1\u001b[0m \u001b[0minput\u001b[0m\u001b[1;33m(\u001b[0m\u001b[1;34m\"what is your name?\"\u001b[0m\u001b[1;33m)\u001b[0m\u001b[1;33m\u001b[0m\u001b[1;33m\u001b[0m\u001b[0m\n\u001b[1;32m----> 2\u001b[1;33m \u001b[0mprint\u001b[0m\u001b[1;33m(\u001b[0m\u001b[1;34m\"hello\"\u001b[0m\u001b[1;33m+\u001b[0m \u001b[0mname\u001b[0m\u001b[1;33m)\u001b[0m\u001b[1;33m\u001b[0m\u001b[1;33m\u001b[0m\u001b[0m\n\u001b[0m",
      "\u001b[1;31mNameError\u001b[0m: name 'name' is not defined"
     ]
    }
   ],
   "source": [
    "input(\"what is your name?\")\n",
    "print(\"hello\"+ name)"
   ]
  },
  {
   "cell_type": "markdown",
   "id": "c21467ea",
   "metadata": {
    "ExecuteTime": {
     "end_time": "2021-07-24T12:15:40.615040Z",
     "start_time": "2021-07-24T12:15:40.606064Z"
    }
   },
   "source": [
    " python variables:"
   ]
  },
  {
   "cell_type": "code",
   "execution_count": 8,
   "id": "11c2fc46",
   "metadata": {
    "ExecuteTime": {
     "end_time": "2021-07-24T12:15:53.542097Z",
     "start_time": "2021-07-24T12:15:50.569036Z"
    }
   },
   "outputs": [
    {
     "name": "stdout",
     "output_type": "stream",
     "text": [
      "what is your name?geethu\n",
      "geethu\n"
     ]
    }
   ],
   "source": [
    "name = input(\"what is your name?\")  #as we see the action of the input function is stored in the variable called name \n",
    "print(name) #and print function is used to print the variable"
   ]
  },
  {
   "cell_type": "code",
   "execution_count": 9,
   "id": "221514c2",
   "metadata": {
    "ExecuteTime": {
     "end_time": "2021-07-24T12:15:55.117398Z",
     "start_time": "2021-07-24T12:15:55.112376Z"
    }
   },
   "outputs": [
    {
     "name": "stdout",
     "output_type": "stream",
     "text": [
      "geethika\n"
     ]
    }
   ],
   "source": [
    "name = \"geethika\" # this will only just for displaying the name\n",
    "print(name)"
   ]
  },
  {
   "cell_type": "code",
   "execution_count": 10,
   "id": "75e787a9",
   "metadata": {
    "ExecuteTime": {
     "end_time": "2021-07-24T12:16:01.501998Z",
     "start_time": "2021-07-24T12:15:58.531627Z"
    }
   },
   "outputs": [
    {
     "name": "stdout",
     "output_type": "stream",
     "text": [
      "what is your name?geethu\n",
      "6\n"
     ]
    }
   ],
   "source": [
    "name = input(\"what is your name?\") # the input function stored in the variable called name\n",
    "length = len(name) #here the len() is used count the length of the string\n",
    "print(length) #it helps to print the length"
   ]
  },
  {
   "cell_type": "markdown",
   "id": "9c6940c9",
   "metadata": {},
   "source": [
    "PROJECT-1"
   ]
  },
  {
   "cell_type": "markdown",
   "id": "4dedf01f",
   "metadata": {},
   "source": [
    "EXAMPLE FOR PRINTING A BAND NAME"
   ]
  },
  {
   "cell_type": "code",
   "execution_count": 11,
   "id": "84f9af82",
   "metadata": {
    "ExecuteTime": {
     "end_time": "2021-07-24T12:16:21.643021Z",
     "start_time": "2021-07-24T12:16:17.732077Z"
    }
   },
   "outputs": [
    {
     "name": "stdout",
     "output_type": "stream",
     "text": [
      "welcome to brand name generator\n",
      "which city did you grown up:\n",
      "h\n",
      "what is your pet name:\n",
      "e\n",
      "your band name: h e\n"
     ]
    }
   ],
   "source": [
    "print(\"welcome to brand name generator\")\n",
    "city = input(\"which city did you grown up:\\n\")\n",
    "name = input(\"what is your pet name:\\n\")\n",
    "print(\"your band name: \" +city + \" \"+name)"
   ]
  }
 ],
 "metadata": {
  "kernelspec": {
   "display_name": "Python 3",
   "language": "python",
   "name": "python3"
  },
  "language_info": {
   "codemirror_mode": {
    "name": "ipython",
    "version": 3
   },
   "file_extension": ".py",
   "mimetype": "text/x-python",
   "name": "python",
   "nbconvert_exporter": "python",
   "pygments_lexer": "ipython3",
   "version": "3.9.6"
  },
  "varInspector": {
   "cols": {
    "lenName": 16,
    "lenType": 16,
    "lenVar": 40
   },
   "kernels_config": {
    "python": {
     "delete_cmd_postfix": "",
     "delete_cmd_prefix": "del ",
     "library": "var_list.py",
     "varRefreshCmd": "print(var_dic_list())"
    },
    "r": {
     "delete_cmd_postfix": ") ",
     "delete_cmd_prefix": "rm(",
     "library": "var_list.r",
     "varRefreshCmd": "cat(var_dic_list()) "
    }
   },
   "types_to_exclude": [
    "module",
    "function",
    "builtin_function_or_method",
    "instance",
    "_Feature"
   ],
   "window_display": false
  }
 },
 "nbformat": 4,
 "nbformat_minor": 5
}
